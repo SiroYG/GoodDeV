{
 "cells": [
  {
   "cell_type": "markdown",
   "metadata": {},
   "source": [
    "### 영화평점페이지에서 리뷰 가져오기"
   ]
  },
  {
   "cell_type": "code",
   "execution_count": null,
   "metadata": {},
   "outputs": [],
   "source": [
    "import pandas as pd\n",
    "import requests as req\n",
    "from bs4 import BeautifulSoup as bs\n",
    "from tqdm import tqdm_notebook"
   ]
  },
  {
   "cell_type": "code",
   "execution_count": 2,
   "metadata": {},
   "outputs": [],
   "source": [
    "main_url = 'https://movie.naver.com'\n",
    "sub_url = '/movie/bi/mi/point.nhn?code=175322'\n",
    "res=req.get(main_url+sub_url)\n",
    "soup = bs(res.text,'html.parser')"
   ]
  },
  {
   "cell_type": "code",
   "execution_count": 3,
   "metadata": {},
   "outputs": [],
   "source": [
    "\"\"\"iframe 가져오기\"\"\"\n",
    "iframe_tag=soup.find('iframe', id = 'pointAfterListIframe')"
   ]
  },
  {
   "cell_type": "code",
   "execution_count": 4,
   "metadata": {},
   "outputs": [
    {
     "data": {
      "text/plain": [
       "'/movie/bi/mi/pointWriteFormList.nhn?code=175322&type=after&isActualPointWriteExecute=false&isMileageSubscriptionAlready=false&isMileageSubscriptionReject=false'"
      ]
     },
     "execution_count": 4,
     "metadata": {},
     "output_type": "execute_result"
    }
   ],
   "source": [
    "iframe_tag['src'] #.attrs =  딕셔너리 형태로 값을 가져온당\n",
    "#해당 속성의 값을 가져오고싶다면 []안에 속성명 ex)['src'],['id']"
   ]
  },
  {
   "cell_type": "code",
   "execution_count": 5,
   "metadata": {},
   "outputs": [
    {
     "data": {
      "text/plain": [
       "<Response [200]>"
      ]
     },
     "execution_count": 5,
     "metadata": {},
     "output_type": "execute_result"
    }
   ],
   "source": [
    "res = req.get(main_url+iframe_tag['src'])\n",
    "res"
   ]
  },
  {
   "cell_type": "code",
   "execution_count": 6,
   "metadata": {},
   "outputs": [
    {
     "data": {
      "text/plain": [
       "'\\nif res.status_cod==200:\\n    돌아라~~~~\\n'"
      ]
     },
     "execution_count": 6,
     "metadata": {},
     "output_type": "execute_result"
    }
   ],
   "source": [
    "\"\"\"\n",
    "if res.status_cod==200:\n",
    "    돌아라~~~~\n",
    "\"\"\""
   ]
  },
  {
   "cell_type": "code",
   "execution_count": 7,
   "metadata": {},
   "outputs": [],
   "source": [
    "soup = bs(res.text,'html.parser')"
   ]
  },
  {
   "cell_type": "code",
   "execution_count": 8,
   "metadata": {},
   "outputs": [],
   "source": [
    "text = []\n",
    "text = soup.select('div.score_reple > p')"
   ]
  },
  {
   "cell_type": "code",
   "execution_count": 9,
   "metadata": {},
   "outputs": [],
   "source": [
    "score = []\n",
    "score = soup.select('.count')"
   ]
  },
  {
   "cell_type": "code",
   "execution_count": 10,
   "metadata": {},
   "outputs": [],
   "source": [
    "like = []\n",
    "bad = []\n",
    "for i in range(len(score)):\n",
    "    if i%2==0:\n",
    "        like.append(score[i].text)\n",
    "    else: \n",
    "        bad.append(score[i].text)"
   ]
  },
  {
   "cell_type": "code",
   "execution_count": 11,
   "metadata": {},
   "outputs": [
    {
     "data": {
      "text/plain": [
       "10"
      ]
     },
     "execution_count": 11,
     "metadata": {},
     "output_type": "execute_result"
    }
   ],
   "source": [
    "len(like)"
   ]
  },
  {
   "cell_type": "code",
   "execution_count": 12,
   "metadata": {
    "scrolled": true
   },
   "outputs": [
    {
     "name": "stdout",
     "output_type": "stream",
     "text": [
      "내용:  영화 안 본 사람은 댓글 못 달게 할 수 없냐?  \n",
      "공감:  5825\n",
      "비공감:  1072\n",
      "내용:  김다미 신인이라는데 연기 대박 ㅋㅋ 신선한 액션 쾌감 있음  \n",
      "공감:  4746\n",
      "비공감:  622\n",
      "내용:  주인공 친구 명희 넘 귀엽고 진짜 빵빵 터진다ㅋㅋㅋㅋ 완전 신스틸러임  \n",
      "공감:  3994\n",
      "비공감:  574\n",
      "내용:  왜 1500대 1인지 알겠다. 전율과 소름끼쳤다  \n",
      "공감:  3032\n",
      "비공감:  462\n",
      "내용:  영화에서 가장 눈에 띄는건 자윤 캐릭터! 강렬하다는 말이 딱이다!  \n",
      "공감:  2847\n",
      "비공감:  514\n",
      "내용:  관람객김다미 연기와 액션 짱!!!다음 후속작 기대만빵!  \n",
      "공감:  2807\n",
      "비공감:  479\n",
      "내용:  나 검색해보면 알겟지만 평점 첨쓴다중간까지 그 긴장감 마지막에 기대이상의 액션올해본 영화중 최고  \n",
      "공감:  2552\n",
      "비공감:  600\n",
      "내용:  그동안 한국영화에서 볼 수 없었던 액션! 그리고 김다미라는 배우의 발견!  \n",
      "공감:  2184\n",
      "비공감:  446\n",
      "내용:  근래 나온 영화중 제일 재밌다 액션도 좋고 연기도 좋고 그나저나  초반에 참 그 그지같은 집 골라서 참 너도 인생 안풀렸다 했는데 ...  ㅎㄷㄷ 하네  \n",
      "공감:  1971\n",
      "비공감:  534\n",
      "내용:  여주인공 신인인데도 불구하고 전혀 안 밀리고 연기 잘했음. 후반부 액션신의 쾌감은 대단함.  \n",
      "공감:  1726\n",
      "비공감:  326\n"
     ]
    }
   ],
   "source": [
    "for i in range(len(like)):\n",
    "    print('내용: ',text[i].text)\n",
    "    print('공감: ',like[i])\n",
    "    print('비공감: ',bad[i])"
   ]
  },
  {
   "cell_type": "markdown",
   "metadata": {},
   "source": [
    "### 리뷰 페이지 다 글어오기"
   ]
  },
  {
   "cell_type": "code",
   "execution_count": 37,
   "metadata": {},
   "outputs": [],
   "source": [
    "main_url = 'https://movie.naver.com'\n",
    "sub_url = '/movie/bi/mi/pointWriteFormList.nhn?code=175322&type=after&isActualPointWriteExecute=false&isMileageSubscriptionAlready=false&isMileageSubscriptionReject=false&page='\n",
    "res=req.get(main_url+sub_url+str(i))\n",
    "soup = bs(res.text,'html.parser')"
   ]
  },
  {
   "cell_type": "code",
   "execution_count": 38,
   "metadata": {},
   "outputs": [],
   "source": [
    "count = soup.select_one('span.sp + em').text"
   ]
  },
  {
   "cell_type": "code",
   "execution_count": 39,
   "metadata": {},
   "outputs": [
    {
     "data": {
      "text/plain": [
       "'24,656'"
      ]
     },
     "execution_count": 39,
     "metadata": {},
     "output_type": "execute_result"
    }
   ],
   "source": [
    "count"
   ]
  },
  {
   "cell_type": "code",
   "execution_count": 40,
   "metadata": {
    "scrolled": true
   },
   "outputs": [],
   "source": [
    "count = count.replace(',',\"\")\n",
    "count = int(count)"
   ]
  },
  {
   "cell_type": "code",
   "execution_count": 41,
   "metadata": {},
   "outputs": [
    {
     "name": "stdout",
     "output_type": "stream",
     "text": [
      "24656\n"
     ]
    }
   ],
   "source": [
    "print(count)"
   ]
  },
  {
   "cell_type": "code",
   "execution_count": 42,
   "metadata": {},
   "outputs": [],
   "source": [
    "if count%10==0 :\n",
    "    page = count//10\n",
    "else:\n",
    "    page = count//10+1"
   ]
  },
  {
   "cell_type": "code",
   "execution_count": null,
   "metadata": {},
   "outputs": [],
   "source": [
    "content = \"\"\n",
    "for i in tqdm_notebook(range(page+1)):\n",
    "    main_url = 'https://movie.naver.com'\n",
    "    sub_url = '/movie/bi/mi/pointWriteFormList.nhn?code=175322&type=after&isActualPointWriteExecute=false&isMileageSubscriptionAlready=false&isMileageSubscriptionReject=false&page='\n",
    "    res=req.get(main_url+sub_url+str(i))\n",
    "    soup = bs(res.text,'html.parser')\n",
    "        \n",
    "    re = soup.select('div.score_reple > p')\n",
    "  \n",
    "    for i in range(len(re)):\n",
    "        content += re[i].text"
   ]
  },
  {
   "cell_type": "code",
   "execution_count": null,
   "metadata": {},
   "outputs": [],
   "source": [
    "content"
   ]
  },
  {
   "cell_type": "code",
   "execution_count": null,
   "metadata": {},
   "outputs": [],
   "source": [
    "fw = open('naver_movie_review.txt','w')\n",
    "fw.write(content)\n",
    "fw.close()"
   ]
  }
 ],
 "metadata": {
  "kernelspec": {
   "display_name": "Python 3",
   "language": "python",
   "name": "python3"
  },
  "language_info": {
   "codemirror_mode": {
    "name": "ipython",
    "version": 3
   },
   "file_extension": ".py",
   "mimetype": "text/x-python",
   "name": "python",
   "nbconvert_exporter": "python",
   "pygments_lexer": "ipython3",
   "version": "3.7.3"
  }
 },
 "nbformat": 4,
 "nbformat_minor": 2
}
